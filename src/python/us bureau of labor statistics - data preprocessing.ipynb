{
 "cells": [
  {
   "cell_type": "code",
   "execution_count": 1,
   "metadata": {
    "collapsed": true
   },
   "outputs": [],
   "source": [
    "import csv"
   ]
  },
  {
   "cell_type": "code",
   "execution_count": 2,
   "metadata": {
    "collapsed": false,
    "scrolled": true
   },
   "outputs": [],
   "source": [
    "def preprocess_file(filename):\n",
    "    content = []\n",
    "    with open(filename) as in_fp, open(filename.replace('.csv', '') + '_preprocessed.csv', 'w+') as out_fp:\n",
    "        reader = csv.reader(in_fp)\n",
    "        writer = csv.writer(out_fp)\n",
    "        i = -1\n",
    "        header = None\n",
    "        prev = None\n",
    "        write_header = True\n",
    "        for line in reader:\n",
    "            if prev:\n",
    "                writer.writerow(prev)\n",
    "            i += 1\n",
    "            if header == None:\n",
    "                header = ['' for _ in range(len(line))]\n",
    "            if i <= 2:\n",
    "                continue\n",
    "            elif i == 3:\n",
    "                last = line[0]\n",
    "                for k, word in enumerate(line):\n",
    "                    if word != '':\n",
    "                        last = word\n",
    "                    header[k] = last\n",
    "                continue\n",
    "            elif i <= 5:\n",
    "                last = line[0]\n",
    "                for k, word in enumerate(line):\n",
    "                    word = word.replace('\\n', ' ')\n",
    "                    if word != '':\n",
    "                        last = word\n",
    "                    header[k] += ' ' + last if last != '' else ''\n",
    "                continue\n",
    "            elif line[0] == '':\n",
    "                prev = None\n",
    "                continue\n",
    "            else:\n",
    "                line = [word.replace(',', '').replace('–', '-1') if k != 0 else word for k, word in enumerate(line)]\n",
    "                line[0] = line[0].replace('.', '')\n",
    "            if write_header:\n",
    "                write_header = False\n",
    "                writer.writerow(header)\n",
    "            prev = line"
   ]
  },
  {
   "cell_type": "code",
   "execution_count": 3,
   "metadata": {
    "collapsed": false
   },
   "outputs": [],
   "source": [
    "preprocess_file('../../data/cpsaat09.csv')"
   ]
  },
  {
   "cell_type": "code",
   "execution_count": 4,
   "metadata": {
    "collapsed": false
   },
   "outputs": [],
   "source": [
    "preprocess_file('../../data/cpsaat18.csv')"
   ]
  },
  {
   "cell_type": "code",
   "execution_count": 5,
   "metadata": {
    "collapsed": false
   },
   "outputs": [],
   "source": [
    "preprocess_file('../../data/cpsaat39.csv')"
   ]
  },
  {
   "cell_type": "code",
   "execution_count": 6,
   "metadata": {
    "collapsed": false
   },
   "outputs": [],
   "source": [
    "preprocess_file('../../data/aat9.csv')"
   ]
  },
  {
   "cell_type": "code",
   "execution_count": null,
   "metadata": {
    "collapsed": true
   },
   "outputs": [],
   "source": []
  }
 ],
 "metadata": {
  "kernelspec": {
   "display_name": "Python 3",
   "language": "python",
   "name": "python3"
  },
  "language_info": {
   "codemirror_mode": {
    "name": "ipython",
    "version": 3
   },
   "file_extension": ".py",
   "mimetype": "text/x-python",
   "name": "python",
   "nbconvert_exporter": "python",
   "pygments_lexer": "ipython3",
   "version": "3.6.0"
  }
 },
 "nbformat": 4,
 "nbformat_minor": 2
}
